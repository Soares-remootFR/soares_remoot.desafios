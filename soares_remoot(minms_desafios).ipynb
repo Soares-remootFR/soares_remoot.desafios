{
  "nbformat": 4,
  "nbformat_minor": 0,
  "metadata": {
    "colab": {
      "provenance": [],
      "authorship_tag": "ABX9TyNIecAHYxqhwpc3ckDwOPTq",
      "include_colab_link": true
    },
    "kernelspec": {
      "name": "python3",
      "display_name": "Python 3"
    },
    "language_info": {
      "name": "python"
    }
  },
  "cells": [
    {
      "cell_type": "markdown",
      "metadata": {
        "id": "view-in-github",
        "colab_type": "text"
      },
      "source": [
        "<a href=\"https://colab.research.google.com/github/Soares-remootFR/soares_remoot.desafios/blob/main/soares_remoot(minms_desafios).ipynb\" target=\"_parent\"><img src=\"https://colab.research.google.com/assets/colab-badge.svg\" alt=\"Open In Colab\"/></a>"
      ]
    },
    {
      "cell_type": "markdown",
      "source": [
        "# 15° Festival de verão da California.\n",
        "\n",
        "Como voluntário em um festival, você acompanha as atrações que estão sendo instaladas. Temos uma classe chamada ***Ride*** que armazena o nome do passeio e a faixa etária adequada. Use instâncias dessa classe para rastrear as atrações instaladas hoje.\n",
        "\n",
        "1.   Crie uma nova instância da classe *Ride* chamada\n",
        "     *roller_coaster* e especifique que seu nome é *Roller* *coaster* e uma *adults* Ride.\n",
        "2.   Crie uma nova instância da classe *Ride* chamada\n",
        "     *ferris_wheel* e especifique que seu nome é *Ferris* *wheel* e uma *kids* ride.\n",
        "\n",
        "\n"
      ],
      "metadata": {
        "id": "b9FHMS3-95pE"
      }
    },
    {
      "cell_type": "code",
      "source": [
        "class Ride:\n",
        "\n",
        "  def __init__(self, name, age_group):\n",
        "\n",
        "    self.name = name\n",
        "\n",
        "    self.age_group = age_group\n",
        "\n",
        "roller_coaster = Ride(\"Roller coaster\", \"adults\")\n",
        "\n",
        "ferris_wheel = Ride(\"Ferris weel\", \"kids\")\n",
        "\n",
        "print (roller_coaster.age_group)\n",
        "print(ferris_wheel.name)"
      ],
      "metadata": {
        "colab": {
          "base_uri": "https://localhost:8080/"
        },
        "id": "BVYBvtVj7XLd",
        "outputId": "8d0e89b8-a11b-418e-e00c-2bc00dc84ec7"
      },
      "execution_count": 14,
      "outputs": [
        {
          "output_type": "stream",
          "name": "stdout",
          "text": [
            "adults\n",
            "Ferris weel\n"
          ]
        }
      ]
    },
    {
      "cell_type": "markdown",
      "source": [
        "# The coffee maker.\n",
        "\n",
        "Há um café próximo que oferece uma nova variedade de bebidas todods os dias. Temos uma classe *Beverage* e  duas instâncias: *fruity* e *cocoa*. Descubra o que há nas bebidas de hoje.\n",
        "\n",
        "1.   Acesse a propriedade *name* da bebida *fruity* e imprima no console.\n",
        "2.   Acesse a propriedade *is_alcoholic* da bebida *cocoa* e imprima no console.\n"
      ],
      "metadata": {
        "id": "5o2RVkvMT3Eo"
      }
    },
    {
      "cell_type": "code",
      "source": [
        "class Beverage:\n",
        "\n",
        "    def __init__(self, name, is_alcoholic):\n",
        "\n",
        "      self.name = name\n",
        "      self.is_alcoholic = is_alcoholic\n",
        "\n",
        "fruity = Beverage(\"Fruit punch\", False)\n",
        "\n",
        "cocoa = Beverage(\"Hot chocolate\", False)\n",
        "\n",
        "print (fruity.name)\n",
        "print(cocoa.is_alcoholic)"
      ],
      "metadata": {
        "colab": {
          "base_uri": "https://localhost:8080/"
        },
        "id": "ewmIy143V9nI",
        "outputId": "3f654bf8-9f81-4b5a-f9d7-504499a6e83e"
      },
      "execution_count": 17,
      "outputs": [
        {
          "output_type": "stream",
          "name": "stdout",
          "text": [
            "Fruit punch\n",
            "False\n"
          ]
        }
      ]
    },
    {
      "cell_type": "markdown",
      "source": [
        "Você adora animais de estimação e tem animais de estimação diferentes em casa. Seu irmão está visitando você e não consegue lembrar os nomes dos seus animais de estimação. Conclua a aula Pet para ajudar seu irmão a associar o nome de um animal de estimação às suas propriedades, como família ou cor.\n",
        "\n",
        "1. Dentro da classe Pet, crie variáveis de instância name, family, animal_type e color para armazenar as informações específicas recebidas nos parâmetros."
      ],
      "metadata": {
        "id": "u_ZbgFUmYAMP"
      }
    },
    {
      "cell_type": "code",
      "source": [
        "class Pet:\n",
        "\n",
        "    def __init__(self, name, family, animal_type, color):\n",
        "\n",
        "        self.name = name\n",
        "        self.family = family\n",
        "        self.animal_type = animal_type\n",
        "        self.color = color\n",
        "\n",
        "rio = Pet(\"Rio\", \"Arara\", \"papagaios\", \"Azul\")\n",
        "\n",
        "COCO = Pet(\"Coco\", \"Poodle\", \"cães\", \"branco\")\n",
        "\n",
        "bud = Pet(\"Bud\", \"Labrador\", \"cães\", \"marrom\")\n",
        "\n",
        "daisy = Pet(\"Daisy\", \"Ciamês\", \"gatos\", \"cinza\")\n",
        "\n",
        "print(f\" {bud.name} é um(a) {bud.family} {bud.color} da família dos(as) {bud.animal_type}.\")"
      ],
      "metadata": {
        "colab": {
          "base_uri": "https://localhost:8080/"
        },
        "id": "Vh2s_LFbZ7l5",
        "outputId": "78b61ed1-e0c0-4254-e387-6c83ff9b3def"
      },
      "execution_count": 36,
      "outputs": [
        {
          "output_type": "stream",
          "name": "stdout",
          "text": [
            " Bud é um(a) Labrador marrom da família dos(as) cães.\n"
          ]
        }
      ]
    }
  ]
}